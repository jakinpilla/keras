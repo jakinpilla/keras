{
 "cells": [
  {
   "cell_type": "markdown",
   "metadata": {},
   "source": [
    "word emedding"
   ]
  },
  {
   "cell_type": "code",
   "execution_count": 1,
   "metadata": {},
   "outputs": [
    {
     "name": "stderr",
     "output_type": "stream",
     "text": [
      "Using TensorFlow backend.\n"
     ]
    }
   ],
   "source": [
    "from keras.datasets import imdb"
   ]
  },
  {
   "cell_type": "code",
   "execution_count": 2,
   "metadata": {
    "collapsed": true,
    "scrolled": true
   },
   "outputs": [],
   "source": [
    "(X_train, y_train), (X_test, y_test) = imdb.load_data()"
   ]
  },
  {
   "cell_type": "code",
   "execution_count": 3,
   "metadata": {
    "collapsed": true
   },
   "outputs": [],
   "source": [
    "word_index = imdb.get_word_index() ## get word indice pre-process\n",
    "\n",
    "## to check what are \"word_index\"\n",
    "# word_index"
   ]
  },
  {
   "cell_type": "code",
   "execution_count": 5,
   "metadata": {
    "collapsed": true
   },
   "outputs": [],
   "source": [
    "index_word = {idx+3 : word for word, idx in word_index.items()}\n",
    "## to check what are \"index_word\"\n",
    "## index_word"
   ]
  },
  {
   "cell_type": "code",
   "execution_count": 7,
   "metadata": {
    "collapsed": true
   },
   "outputs": [],
   "source": [
    "# idx 1 is \"<START> and idx 2번 is \"<UNKNOWN>\"\n",
    "\n",
    "index_word[1] = \"<START>\"\n",
    "index_word[2] = \"<UNKNOWN>\""
   ]
  },
  {
   "cell_type": "code",
   "execution_count": 8,
   "metadata": {},
   "outputs": [
    {
     "data": {
      "text/plain": [
       "'this'"
      ]
     },
     "execution_count": 8,
     "metadata": {},
     "output_type": "execute_result"
    }
   ],
   "source": [
    "index_word[14]"
   ]
  },
  {
   "cell_type": "code",
   "execution_count": 9,
   "metadata": {
    "scrolled": true
   },
   "outputs": [
    {
     "data": {
      "text/plain": [
       "[1, 14, 22, 16, 43]"
      ]
     },
     "execution_count": 9,
     "metadata": {},
     "output_type": "execute_result"
    }
   ],
   "source": [
    "## words index of first data\n",
    "X_train[0][:5]"
   ]
  },
  {
   "cell_type": "code",
   "execution_count": 10,
   "metadata": {},
   "outputs": [
    {
     "data": {
      "text/plain": [
       "\"<START> this film was just brilliant casting location scenery story direction everyone's really suited the part they played and you could just imagine being there robert redford's is an amazing actor and now the same being director norman's father came from the same scottish island as myself so i loved the fact there was a real connection with this film the witty remarks throughout the film were great it was just brilliant so much that i bought the film as soon as it was released for retail and would recommend it to everyone to watch and the fly fishing was amazing really cried at the end it was so sad and you know what they say if you cry at a film it must have been good and this definitely was also congratulations to the two little boy's that played the part's of norman and paul they were just brilliant children are often left out of the praising list i think because the stars that play them all grown up are such a big profile for the whole film but these children are amazing and should be praised for what they have done don't you think the whole story was so lovely because it was true and was someone's life after all that was shared with us all\""
      ]
     },
     "execution_count": 10,
     "metadata": {},
     "output_type": "execute_result"
    }
   ],
   "source": [
    "## conver word idx data to sentence\n",
    "\" \".join(index_word[i] for i in X_train[0])"
   ]
  },
  {
   "cell_type": "code",
   "execution_count": 11,
   "metadata": {},
   "outputs": [
    {
     "data": {
      "text/plain": [
       "88588"
      ]
     },
     "execution_count": 11,
     "metadata": {},
     "output_type": "execute_result"
    }
   ],
   "source": [
    "## total number of words\n",
    "NUM_WORDS = max(index_word) + 1\n",
    "NUM_WORDS"
   ]
  },
  {
   "cell_type": "code",
   "execution_count": 12,
   "metadata": {
    "collapsed": true
   },
   "outputs": [],
   "source": [
    "## convert our data to text \n",
    "texts = []\n",
    "for data in X_train:\n",
    "    text = \" \".join(index_word[i] for i in data)\n",
    "    texts.append(text)"
   ]
  },
  {
   "cell_type": "code",
   "execution_count": 13,
   "metadata": {},
   "outputs": [
    {
     # check the text
     "data": {
      "text/plain": [
       "[\"<START> this film was just brilliant casting location scenery story direction everyone's really suited the part they played and you could just imagine being there robert redford's is an amazing actor and now the same being director norman's father came from the same scottish island as myself so i loved the fact there was a real connection with this film the witty remarks throughout the film were great it was just brilliant so much that i bought the film as soon as it was released for retail and would recommend it to everyone to watch and the fly fishing was amazing really cried at the end it was so sad and you know what they say if you cry at a film it must have been good and this definitely was also congratulations to the two little boy's that played the part's of norman and paul they were just brilliant children are often left out of the praising list i think because the stars that play them all grown up are such a big profile for the whole film but these children are amazing and should be praised for what they have done don't you think the whole story was so lovely because it was true and was someone's life after all that was shared with us all\",\n",
       " \"<START> big hair big boobs bad music and a giant safety pin these are the words to best describe this terrible movie i love cheesy horror movies and i've seen hundreds but this had got to be on of the worst ever made the plot is paper thin and ridiculous the acting is an abomination the script is completely laughable the best is the end showdown with the cop and how he worked out who the killer is it's just so damn terribly written the clothes are sickening and funny in equal measures the hair is big lots of boobs bounce men wear those cut tee shirts that show off their stomachs sickening that men actually wore them and the music is just synthesiser trash that plays over and over again in almost every scene there is trashy music boobs and paramedics taking away bodies and the gym still doesn't close for bereavement all joking aside this is a truly bad film whose only charm is to look back on the disaster that was the 80's and have a good old laugh at how bad everything was back then\",\n",
       " \"<START> this has to be one of the worst films of the 1990s when my friends i were watching this film being the target audience it was aimed at we just sat watched the first half an hour with our jaws touching the floor at how bad it really was the rest of the time everyone else in the theatre just started talking to each other leaving or generally crying into their popcorn that they actually paid money they had earnt working to watch this feeble excuse for a film it must have looked like a great idea on paper but on film it looks like no one in the film has a clue what is going on crap acting crap costumes i can't get across how embarrasing this is to watch save yourself an hour a bit of your life\",\n",
       " \"<START> the scots excel at storytelling the traditional sort many years after the event i can still see in my mind's eye an elderly lady my friend's mother retelling the battle of culloden she makes the characters come alive her passion is that of an eye witness one to the events on the sodden heath a mile or so from where she lives br br of course it happened many years before she was born but you wouldn't guess from the way she tells it the same story is told in bars the length and breadth of scotland as i discussed it with a friend one night in mallaig a local cut in to give his version the discussion continued to closing time br br stories passed down like this become part of our being who doesn't remember the stories our parents told us when we were children they become our invisible world and as we grow older they maybe still serve as inspiration or as an emotional reservoir fact and fiction blend with aspiration role models warning stories archetypes magic and mystery br br my name is aonghas like my grandfather and his grandfather before him our protagonist introduces himself to us and also introduces the story that stretches back through generations it produces stories within stories stories that evoke the impenetrable wonder of scotland its rugged mountains shrouded in mists the stuff of legend yet seach'd is rooted in reality this is what gives it its special charm it has a rough beauty and authenticity tempered with some of the finest gaelic singing you will ever hear br br aonghas angus visits his grandfather in hospital shortly before his death he burns with frustration part of him yearns to be in the twenty first century to hang out in glasgow but he is raised on the western shores among a gaelic speaking community br br yet there is a deeper conflict within him he yearns to know the truth the truth behind his grandfather's ancient stories where does fiction end and he wants to know the truth behind the death of his parents br br he is pulled to make a last fateful journey to the summit of one of scotland's most inaccessible mountains can the truth be told or is it all in stories br br in this story about stories we revisit bloody battles poisoned lovers the folklore of old and the sometimes more treacherous folklore of accepted truth in doing so we each connect with angus as he lives the story of his own life br br seachd the inaccessible pinnacle is probably the most honest unpretentious and genuinely beautiful film of scotland ever made like angus i got slightly annoyed with the pretext of hanging stories on more stories but also like angus i forgave this once i saw the 'bigger picture ' forget the box office pastiche of braveheart and its like you might even forego the justly famous dramatisation of the wicker man to see a film that is true to scotland this one is probably unique if you maybe meditate on it deeply enough you might even re evaluate the power of storytelling and the age old question of whether there are some truths that cannot be told but only experienced\",\n",
       " \"<START> worst mistake of my life br br i picked this movie up at target for 5 because i figured hey it's sandler i can get some cheap laughs i was wrong completely wrong mid way through the film all three of my friends were asleep and i was still suffering worst plot worst script worst movie i have ever seen i wanted to hit my head up against a wall for an hour then i'd stop and you know why because it felt damn good upon bashing my head in i stuck that damn movie in the microwave and watched it burn and that felt better than anything else i've ever done it took american psycho army of darkness and kill bill just to get over that crap i hate you sandler for actually going through with this and ruining a whole day of my life\"]"
      ]
     },
     "execution_count": 13,
     "metadata": {},
     "output_type": "execute_result"
    }
   ],
   "source": [
    "texts[0:5]"
   ]
  },
  {
   "cell_type": "code",
   "execution_count": 14,
   "metadata": {},
   "outputs": [
    {
     "data": {
      "text/plain": [
       "25000"
      ]
     },
     "execution_count": 14,
     "metadata": {},
     "output_type": "execute_result"
    }
   ],
   "source": [
    "len(texts)"
   ]
  },
  {
   "cell_type": "code",
   "execution_count": 15,
   "metadata": {},
   "outputs": [
    {
     "data": {
      "text/plain": [
       "\"<START> b movie at best sound effects are pretty good lame concept decent execution i suppose it's a rental br br you put some olive oil in your mouth to save you from de poison den you cut de bite and suck out de poisen you gonna be ok tommy br br you stay by the airphone when agent harris calls you get me give me a fire extinguisher br br weapons we need weapons where's the silverware all we have is this sporks br br dr price is the snake expert br br local ers can handle the occasional snakebite alert every er in the tri city area\""
      ]
     },
     "execution_count": 15,
     "metadata": {},
     "output_type": "execute_result"
    }
   ],
   "source": [
    "texts[14]"
   ]
  },
  {
   "cell_type": "code",
   "execution_count": 16,
   "metadata": {
    "collapsed": true
   },
   "outputs": [],
   "source": [
    "## convert text to idx number\n",
    "from keras.preprocessing.text import Tokenizer"
   ]
  },
  {
   "cell_type": "code",
   "execution_count": 17,
   "metadata": {
    "collapsed": true
   },
   "outputs": [],
   "source": [
    "tok = Tokenizer()"
   ]
  },
  {
   "cell_type": "code",
   "execution_count": 18,
   "metadata": {
    "collapsed": true
   },
   "outputs": [],
   "source": [
    "## fit_on_texts() : assign numbers to words\n",
    "tok.fit_on_texts(texts)"
   ]
  },
  {
   "cell_type": "code",
   "execution_count": 19,
   "metadata": {
    "collapsed": true
   },
   "outputs": [],
   "source": [
    "## texts_to_sequences() : convert text to word indice lists\n",
    "new_data = tok.texts_to_sequences(texts)"
   ]
  },
  {
   "cell_type": "code",
   "execution_count": 20,
   "metadata": {},
   "outputs": [
    {
     "data": {
      "text/plain": [
       "[28, 11, 19, 13, 41, 526, 968, 1618, 1381, 63, 455, 4449, 64, 3930, 1]"
      ]
     },
     "execution_count": 20,
     "metadata": {},
     "output_type": "execute_result"
    }
   ],
   "source": [
    "new_data[0][:15]"
   ]
  },
  {
   "cell_type": "code",
   "execution_count": 21,
   "metadata": {},
   "outputs": [
    {
     "data": {
      "text/plain": [
       "[1, 14, 22, 16, 43, 530, 973, 1622, 1385, 65, 458, 4468, 66, 3941, 4]"
      ]
     },
     "execution_count": 21,
     "metadata": {},
     "output_type": "execute_result"
    }
   ],
   "source": [
    "X_train[0][:15]"
   ]
  },
  {
   "cell_type": "markdown",
   "metadata": {},
   "source": [
    "target words and context words"
   ]
  },
  {
   "cell_type": "code",
   "execution_count": 22,
   "metadata": {
    "collapsed": true
   },
   "outputs": [],
   "source": [
    "def extract_target_context(x):\n",
    "    \"\"\"to define the target words and context words which are used for predicting the target words\"\"\"\n",
    "    targets = [] # target words\n",
    "    contexts = [] # context words\n",
    "    for paragraph in x:\n",
    "        n = len(paragraph)\n",
    "        window = 2  # get 2 words right and left from taget words\n",
    "        for i in range(window, n-window):\n",
    "            targets.append(paragraph[i])\n",
    "            contexts.append(\n",
    "                paragraph[i-window:i] +    # left context words\n",
    "                paragraph[i+1:i+window+1]) # right context words\n",
    "    return targets, contexts"
   ]
  },
  {
   "cell_type": "code",
   "execution_count": 23,
   "metadata": {
    "collapsed": true
   },
   "outputs": [],
   "source": [
    "target_train, context_train = extract_target_context(X_train)\n",
    "target_test, context_test = extract_target_context(X_test)"
   ]
  },
  {
   "cell_type": "code",
   "execution_count": 24,
   "metadata": {},
   "outputs": [
    {
     "data": {
      "text/plain": [
       "[1, 14, 22, 16, 43]"
      ]
     },
     "execution_count": 24,
     "metadata": {},
     "output_type": "execute_result"
    }
   ],
   "source": [
    "X_train[0][:5]"
   ]
  },
  {
   "cell_type": "code",
   "execution_count": 25,
   "metadata": {},
   "outputs": [
    {
     "data": {
      "text/plain": [
       "22"
      ]
     },
     "execution_count": 25,
     "metadata": {},
     "output_type": "execute_result"
    }
   ],
   "source": [
    "target_train[0]"
   ]
  },
  {
   "cell_type": "code",
   "execution_count": 26,
   "metadata": {
    "collapsed": true
   },
   "outputs": [],
   "source": [
    "from keras.utils import Sequence, to_categorical"
   ]
  },
  {
   "cell_type": "code",
   "execution_count": 27,
   "metadata": {
    "collapsed": true
   },
   "outputs": [],
   "source": [
    "import numpy as np"
   ]
  },
  {
   "cell_type": "code",
   "execution_count": 28,
   "metadata": {
    "collapsed": true
   },
   "outputs": [],
   "source": [
    "class TargetContext(Sequence):\n",
    "    def __init__(self, target, context, batch_size):\n",
    "        self.target = np.asarray(target)\n",
    "        self.context = np.asarray(context)\n",
    "        self.batch_size = batch_size\n",
    "\n",
    "    def __len__(self):\n",
    "        \"\"\"the length of data\"\"\"\n",
    "        # return len(self.context) // self.batch_size\n",
    "        return 128  # fix as 128\n",
    "\n",
    "    def __getitem__(self, idx):\n",
    "        \"\"\"bring the idxth data batch\"\"\"\n",
    "        i = np.random.choice(len(self.target), self.batch_size)  # choose the data randomly as much as batch size\n",
    "        batch_x = self.context[i]\n",
    "        batch_y = self.target[i]\n",
    "        return batch_x, to_categorical(batch_y, NUM_WORDS)  # to_categorical() : convert y format asone-hot encoding"
   ]
  },
  {
   "cell_type": "code",
   "execution_count": 29,
   "metadata": {
    "collapsed": true
   },
   "outputs": [],
   "source": [
    "train = TargetContext(target_train, context_train, 32) ## batch size is \"32\"\n",
    "valid = TargetContext(target_test, context_test, 32)"
   ]
  },
  {
   "cell_type": "code",
   "execution_count": 30,
   "metadata": {},
   "outputs": [
    {
     "data": {
      "text/plain": [
       "(array([[24554,   419,     4,  1709],\n",
       "        [   33,     6,    16,   691],\n",
       "        [   73,  1391,    26,    46],\n",
       "        [  109,    24,   284,    19],\n",
       "        [   27,   118,  3622,     9],\n",
       "        [    8,    30,    23,    11],\n",
       "        [  117, 25656,    28,     4],\n",
       "        [  248,     9,  9825,    18],\n",
       "        [   11,     4,    16,   184],\n",
       "        [  316,   574,   874,   188],\n",
       "        [11649,  1824,     5,   472],\n",
       "        [  433,   225,    60,  2602],\n",
       "        [    9, 14822,   259,    15],\n",
       "        [  675,     7,    18,   373],\n",
       "        [   15,   123,  2339,     9],\n",
       "        [ 1835,    44,  3582,     8],\n",
       "        [   12,    86,    46,    11],\n",
       "        [  354,   533,   468,   230],\n",
       "        [   89,   966,   183,    26],\n",
       "        [    4,   402,    95,    25],\n",
       "        [16749,   180,    27,   154],\n",
       "        [   23,     4,    73,   917],\n",
       "        [   18,     6,     7,  1711],\n",
       "        [    8,  2061,   105,    60],\n",
       "        [    4,  2113,   193,   129],\n",
       "        [ 1981,   554,  1451,    42],\n",
       "        [  462,    99,    13,   828],\n",
       "        [ 2440,     7,  6919,     5],\n",
       "        [  434,     9,   345,    14],\n",
       "        [ 1212,    39,   621,  1971],\n",
       "        [   24,   773, 10497,  9626],\n",
       "        [   13,   202,   123,  1086]]), array([[0., 0., 0., ..., 0., 0., 0.],\n",
       "        [0., 0., 0., ..., 0., 0., 0.],\n",
       "        [0., 0., 0., ..., 0., 0., 0.],\n",
       "        ...,\n",
       "        [0., 0., 0., ..., 0., 0., 0.],\n",
       "        [0., 0., 0., ..., 0., 0., 0.],\n",
       "        [0., 0., 0., ..., 0., 0., 0.]]))"
      ]
     },
     "execution_count": 30,
     "metadata": {},
     "output_type": "execute_result"
    }
   ],
   "source": [
    "train[0]"
   ]
  },
  {
   "cell_type": "code",
   "execution_count": 31,
   "metadata": {
    "collapsed": true
   },
   "outputs": [],
   "source": [
    "from keras.models import Sequential\n",
    "from keras.layers import Dense, Embedding, Flatten\n",
    "from keras.optimizers import Adam\n",
    "from keras.callbacks import EarlyStopping"
   ]
  },
  {
   "cell_type": "code",
   "execution_count": 32,
   "metadata": {
    "collapsed": true
   },
   "outputs": [],
   "source": [
    "## NNLM\n",
    "## make a embedding layer\n",
    "emb_nnlm = Embedding(input_dim = NUM_WORDS, output_dim = 8, input_length = 4)"
   ]
  },
  {
   "cell_type": "code",
   "execution_count": 33,
   "metadata": {
    "collapsed": true
   },
   "outputs": [],
   "source": [
    "nnlm = Sequential()\n",
    "nnlm.add(emb_nnlm)\n",
    "nnlm.add(Flatten())\n",
    "nnlm.add(Dense(128, activation=\"relu\"))\n",
    "nnlm.add(Dense(NUM_WORDS, activation = \"softmax\"))"
   ]
  },
  {
   "cell_type": "code",
   "execution_count": 34,
   "metadata": {},
   "outputs": [
    {
     "name": "stdout",
     "output_type": "stream",
     "text": [
      "_________________________________________________________________\n",
      "Layer (type)                 Output Shape              Param #   \n",
      "=================================================================\n",
      "embedding_1 (Embedding)      (None, 4, 8)              708704    \n",
      "_________________________________________________________________\n",
      "flatten_1 (Flatten)          (None, 32)                0         \n",
      "_________________________________________________________________\n",
      "dense_1 (Dense)              (None, 128)               4224      \n",
      "_________________________________________________________________\n",
      "dense_2 (Dense)              (None, 88588)             11427852  \n",
      "=================================================================\n",
      "Total params: 12,140,780\n",
      "Trainable params: 12,140,780\n",
      "Non-trainable params: 0\n",
      "_________________________________________________________________\n"
     ]
    }
   ],
   "source": [
    "nnlm.summary()"
   ]
  },
  {
   "cell_type": "code",
   "execution_count": 35,
   "metadata": {
    "collapsed": true
   },
   "outputs": [],
   "source": [
    "nnlm.compile(optimizer=Adam(), loss = \"categorical_crossentropy\", metrics=[\"accuracy\"])"
   ]
  },
  {
   "cell_type": "code",
   "execution_count": 36,
   "metadata": {},
   "outputs": [
    {
     "name": "stdout",
     "output_type": "stream",
     "text": [
      "Epoch 1/30\n",
      "128/128 [==============================] - 44s 346ms/step - loss: 10.4462 - acc: 0.0542 - val_loss: 8.1457 - val_acc: 0.0601\n",
      "Epoch 2/30\n",
      "128/128 [==============================] - 7s 56ms/step - loss: 7.8816 - acc: 0.0549 - val_loss: 7.5416 - val_acc: 0.0593\n"
     ]
    },
    {
     "data": {
      "text/plain": [
       "<keras.callbacks.History at 0x7fad02343630>"
      ]
     },
     "execution_count": 36,
     "metadata": {},
     "output_type": "execute_result"
    }
   ],
   "source": [
    "nnlm.fit_generator(\n",
    "train, \n",
    "epochs = 30,\n",
    "validation_data = valid,\n",
    "callbacks=[EarlyStopping(monitor = \"val_acc\")])"
   ]
  },
  {
   "cell_type": "code",
   "execution_count": 43,
   "metadata": {
    "collapsed": true
   },
   "outputs": [],
   "source": [
    "## CBOW\n",
    "from keras.layers import Lambda\n",
    "from keras import backend as K"
   ]
  },
  {
   "cell_type": "code",
   "execution_count": 44,
   "metadata": {},
   "outputs": [
    {
     "name": "stdout",
     "output_type": "stream",
     "text": [
      "_________________________________________________________________\n",
      "Layer (type)                 Output Shape              Param #   \n",
      "=================================================================\n",
      "embedding_3 (Embedding)      (None, 4, 8)              708704    \n",
      "_________________________________________________________________\n",
      "lambda_2 (Lambda)            (None, 8)                 0         \n",
      "_________________________________________________________________\n",
      "dense_4 (Dense)              (None, 88588)             797292    \n",
      "=================================================================\n",
      "Total params: 1,505,996\n",
      "Trainable params: 1,505,996\n",
      "Non-trainable params: 0\n",
      "_________________________________________________________________\n"
     ]
    }
   ],
   "source": [
    "emb_cbow = Embedding(input_dim=NUM_WORDS, output_dim=8, input_length=4)\n",
    "cbow = Sequential()\n",
    "cbow.add(emb_cbow)\n",
    "cbow.add(Lambda(lambda x: K.mean(x, axis=1)))  # average of embedding ## K :: backend ## \"lambda\" comes from tensorflow \n",
    "cbow.add(Dense(NUM_WORDS, activation='softmax'))\n",
    "cbow.summary()"
   ]
  },
  {
   "cell_type": "code",
   "execution_count": 45,
   "metadata": {
    "collapsed": true,
    "scrolled": false
   },
   "outputs": [],
   "source": [
    "cbow.compile(optimizer=Adam(), loss='categorical_crossentropy', metrics=['accuracy'])"
   ]
  },
  {
   "cell_type": "code",
   "execution_count": 46,
   "metadata": {
    "scrolled": false
   },
   "outputs": [
    {
     "name": "stdout",
     "output_type": "stream",
     "text": [
      "Epoch 1/30\n",
      "128/128 [==============================] - 7s 54ms/step - loss: 11.3362 - acc: 0.0552 - val_loss: 11.2550 - val_acc: 0.0574\n",
      "Epoch 2/30\n",
      "128/128 [==============================] - 7s 51ms/step - loss: 11.1130 - acc: 0.0596 - val_loss: 10.9088 - val_acc: 0.0608\n",
      "Epoch 3/30\n",
      "128/128 [==============================] - 7s 51ms/step - loss: 10.6320 - acc: 0.0586 - val_loss: 10.2725 - val_acc: 0.0596\n"
     ]
    },
    {
     "data": {
      "text/plain": [
       "<keras.callbacks.History at 0x7faad48d74a8>"
      ]
     },
     "execution_count": 46,
     "metadata": {},
     "output_type": "execute_result"
    }
   ],
   "source": [
    "cbow.fit_generator(\n",
    "    train,\n",
    "    epochs=30,\n",
    "    validation_data=valid,\n",
    "    callbacks=[EarlyStopping(monitor='val_acc')])"
   ]
  },
  {
   "cell_type": "code",
   "execution_count": 49,
   "metadata": {
    "collapsed": true
   },
   "outputs": [],
   "source": [
    "np.save(\"emb_cbow.npy\", emb_cbow.get_weights()[0])"
   ]
  },
  {
   "cell_type": "code",
   "execution_count": 41,
   "metadata": {
    "collapsed": true
   },
   "outputs": [],
   "source": [
    "## Skip gram"
   ]
  },
  {
   "cell_type": "code",
   "execution_count": 69,
   "metadata": {
    "collapsed": true
   },
   "outputs": [],
   "source": [
    "class SkipGramData(TargetContext):\n",
    "    def __getitem__(self, idx):\n",
    "        n = self.batch_size // 2\n",
    "        i = np.random.choice(len(self.target), n)\n",
    "        j = np.random.choice(4, n)\n",
    "\n",
    "        true_context = self.context[i, j]  # true context\n",
    "        true_target = self.target[i]       # true target\n",
    "        true_y = np.ones(n)             # 1\n",
    "\n",
    "        # make false context by choosing random words\n",
    "        false_context = np.random.choice(NUM_WORDS, n)\n",
    "        false_y = np.zeros(n)                           # 0\n",
    "\n",
    "         # paste true context and false context\n",
    "        context = np.append(true_context, false_context)\n",
    "\n",
    "        # double true target\n",
    "        target = np.append(true_target, true_target)\n",
    "\n",
    "        # first element 1, last element 0\n",
    "        y = np.append(true_y, false_y)\n",
    "\n",
    "        return [context, target], y"
   ]
  },
  {
   "cell_type": "code",
   "execution_count": 70,
   "metadata": {
    "collapsed": true
   },
   "outputs": [],
   "source": [
    "train_skipgram = SkipGramData(target_train, context_train, 32)\n",
    "valid_skipgram = SkipGramData(target_test, context_test, 32)"
   ]
  },
  {
   "cell_type": "code",
   "execution_count": 71,
   "metadata": {
    "collapsed": true
   },
   "outputs": [],
   "source": [
    "from keras.layers import Activation, Dot, Input, Reshape\n",
    "from keras.models import Model"
   ]
  },
  {
   "cell_type": "code",
   "execution_count": 72,
   "metadata": {
    "collapsed": true
   },
   "outputs": [],
   "source": [
    "# input layer\n",
    "input_target = Input(shape = (1, ))\n",
    "input_context = Input(shape = (1, ))\n",
    "\n",
    "# embedding layer\n",
    "emb_skip_target = Embedding(input_dim = NUM_WORDS, output_dim=8)\n",
    "emb_skip_context = Embedding(input_dim = NUM_WORDS, output_dim=8)\n",
    "\n",
    "# connect two input layers to each embedding layer\n",
    "# Dot layer do product between two layers\n",
    "\n",
    "out = Dot(axes=2)([\n",
    "    emb_skip_target(input_target),\n",
    "    emb_skip_context(input_context)])\n",
    "\n",
    "# change output format (1, 1) into (1, )\n",
    "out = Reshape((1, ), input_shape=(1, 1))(out)\n",
    "\n",
    "# activate with sigmoid\n",
    "out = Activation(\"sigmoid\")(out)"
   ]
  },
  {
   "cell_type": "code",
   "execution_count": 73,
   "metadata": {
    "collapsed": true
   },
   "outputs": [],
   "source": [
    "skipgram = Model(inputs=[input_target, input_context], outputs=out)"
   ]
  },
  {
   "cell_type": "code",
   "execution_count": 74,
   "metadata": {},
   "outputs": [
    {
     "name": "stdout",
     "output_type": "stream",
     "text": [
      "__________________________________________________________________________________________________\n",
      "Layer (type)                    Output Shape         Param #     Connected to                     \n",
      "==================================================================================================\n",
      "input_5 (InputLayer)            (None, 1)            0                                            \n",
      "__________________________________________________________________________________________________\n",
      "input_6 (InputLayer)            (None, 1)            0                                            \n",
      "__________________________________________________________________________________________________\n",
      "embedding_8 (Embedding)         (None, 1, 8)         708704      input_5[0][0]                    \n",
      "__________________________________________________________________________________________________\n",
      "embedding_9 (Embedding)         (None, 1, 8)         708704      input_6[0][0]                    \n",
      "__________________________________________________________________________________________________\n",
      "dot_3 (Dot)                     (None, 1, 1)         0           embedding_8[0][0]                \n",
      "                                                                 embedding_9[0][0]                \n",
      "__________________________________________________________________________________________________\n",
      "reshape_3 (Reshape)             (None, 1)            0           dot_3[0][0]                      \n",
      "__________________________________________________________________________________________________\n",
      "activation_3 (Activation)       (None, 1)            0           reshape_3[0][0]                  \n",
      "==================================================================================================\n",
      "Total params: 1,417,408\n",
      "Trainable params: 1,417,408\n",
      "Non-trainable params: 0\n",
      "__________________________________________________________________________________________________\n"
     ]
    }
   ],
   "source": [
    "skipgram.summary()"
   ]
  },
  {
   "cell_type": "code",
   "execution_count": 75,
   "metadata": {
    "collapsed": true
   },
   "outputs": [],
   "source": [
    "skipgram.compile(optimizer=Adam(), loss = \"binary_crossentropy\", metrics=[\"accuracy\"])"
   ]
  },
  {
   "cell_type": "code",
   "execution_count": 76,
   "metadata": {},
   "outputs": [
    {
     "name": "stdout",
     "output_type": "stream",
     "text": [
      "Epoch 1/30\n",
      "128/128 [==============================] - 1s 12ms/step - loss: 0.6932 - acc: 0.5010 - val_loss: 0.6931 - val_acc: 0.5051\n",
      "Epoch 2/30\n",
      "128/128 [==============================] - 1s 7ms/step - loss: 0.6931 - acc: 0.5181 - val_loss: 0.6930 - val_acc: 0.5244\n",
      "Epoch 3/30\n",
      "128/128 [==============================] - 1s 7ms/step - loss: 0.6930 - acc: 0.5149 - val_loss: 0.6929 - val_acc: 0.5298\n",
      "Epoch 4/30\n",
      "128/128 [==============================] - 1s 7ms/step - loss: 0.6924 - acc: 0.5667 - val_loss: 0.6920 - val_acc: 0.5720\n",
      "Epoch 5/30\n",
      "128/128 [==============================] - 1s 7ms/step - loss: 0.6913 - acc: 0.5750 - val_loss: 0.6902 - val_acc: 0.5923\n",
      "Epoch 6/30\n",
      "128/128 [==============================] - 1s 7ms/step - loss: 0.6891 - acc: 0.6125 - val_loss: 0.6868 - val_acc: 0.6077\n",
      "Epoch 7/30\n",
      "128/128 [==============================] - 1s 7ms/step - loss: 0.6847 - acc: 0.6130 - val_loss: 0.6816 - val_acc: 0.6274\n",
      "Epoch 8/30\n",
      "128/128 [==============================] - 1s 7ms/step - loss: 0.6784 - acc: 0.6328 - val_loss: 0.6739 - val_acc: 0.6433\n",
      "Epoch 9/30\n",
      "128/128 [==============================] - 1s 7ms/step - loss: 0.6700 - acc: 0.6326 - val_loss: 0.6634 - val_acc: 0.6453\n",
      "Epoch 10/30\n",
      "128/128 [==============================] - 1s 7ms/step - loss: 0.6617 - acc: 0.6519 - val_loss: 0.6517 - val_acc: 0.6709\n",
      "Epoch 11/30\n",
      "128/128 [==============================] - 1s 7ms/step - loss: 0.6478 - acc: 0.6526 - val_loss: 0.6473 - val_acc: 0.6741\n",
      "Epoch 12/30\n",
      "128/128 [==============================] - 1s 7ms/step - loss: 0.6404 - acc: 0.6726 - val_loss: 0.6321 - val_acc: 0.6736\n"
     ]
    },
    {
     "data": {
      "text/plain": [
       "<keras.callbacks.History at 0x7faad5078e80>"
      ]
     },
     "execution_count": 76,
     "metadata": {},
     "output_type": "execute_result"
    }
   ],
   "source": [
    "skipgram.fit_generator(\n",
    "train_skipgram,\n",
    "epochs=30,\n",
    "validation_data = valid_skipgram,\n",
    "callbacks = [EarlyStopping(monitor=\"val_acc\")])"
   ]
  },
  {
   "cell_type": "code",
   "execution_count": 77,
   "metadata": {
    "collapsed": true
   },
   "outputs": [],
   "source": [
    "np.save(\"emb_skip_target.npy\", emb_skip_target.get_weights()[0])"
   ]
  },
  {
   "cell_type": "markdown",
   "metadata": {},
   "source": [
    "Reusing embedding layer"
   ]
  },
  {
   "cell_type": "code",
   "execution_count": 78,
   "metadata": {
    "collapsed": true
   },
   "outputs": [],
   "source": [
    "from keras.preprocessing.sequence import pad_sequences\n",
    "from keras.utils import to_categorical"
   ]
  },
  {
   "cell_type": "code",
   "execution_count": 79,
   "metadata": {
    "collapsed": true
   },
   "outputs": [],
   "source": [
    "MAXLEN = 20"
   ]
  },
  {
   "cell_type": "code",
   "execution_count": 80,
   "metadata": {
    "collapsed": true
   },
   "outputs": [],
   "source": [
    "w = np.load(\"emb_skip_target.npy\")"
   ]
  },
  {
   "cell_type": "code",
   "execution_count": 81,
   "metadata": {
    "collapsed": true
   },
   "outputs": [],
   "source": [
    "emb_ff = Embedding(input_dim = NUM_WORDS, output_dim=8, input_length = MAXLEN,\n",
    "                  weights = [w], \n",
    "                  trainable = True)"
   ]
  },
  {
   "cell_type": "code",
   "execution_count": 82,
   "metadata": {
    "collapsed": true
   },
   "outputs": [],
   "source": [
    "X_train_seq = pad_sequences(X_train, MAXLEN)\n",
    "X_test_seq = pad_sequences(X_test, MAXLEN)"
   ]
  },
  {
   "cell_type": "code",
   "execution_count": 83,
   "metadata": {
    "collapsed": true
   },
   "outputs": [],
   "source": [
    "ff = Sequential()\n",
    "ff.add(emb_ff)\n",
    "ff.add(Flatten())\n",
    "ff.add(Dense(1, activation = \"sigmoid\"))"
   ]
  },
  {
   "cell_type": "code",
   "execution_count": 84,
   "metadata": {},
   "outputs": [
    {
     "name": "stdout",
     "output_type": "stream",
     "text": [
      "_________________________________________________________________\n",
      "Layer (type)                 Output Shape              Param #   \n",
      "=================================================================\n",
      "embedding_10 (Embedding)     (None, 20, 8)             708704    \n",
      "_________________________________________________________________\n",
      "flatten_2 (Flatten)          (None, 160)               0         \n",
      "_________________________________________________________________\n",
      "dense_5 (Dense)              (None, 1)                 161       \n",
      "=================================================================\n",
      "Total params: 708,865\n",
      "Trainable params: 708,865\n",
      "Non-trainable params: 0\n",
      "_________________________________________________________________\n"
     ]
    }
   ],
   "source": [
    "ff.summary()"
   ]
  },
  {
   "cell_type": "code",
   "execution_count": 85,
   "metadata": {
    "collapsed": true
   },
   "outputs": [],
   "source": [
    "from keras.optimizers import RMSprop"
   ]
  },
  {
   "cell_type": "code",
   "execution_count": 86,
   "metadata": {
    "collapsed": true
   },
   "outputs": [],
   "source": [
    "ff.compile(optimizer=RMSprop(), loss = \"binary_crossentropy\", metrics=[\"acc\"])"
   ]
  },
  {
   "cell_type": "code",
   "execution_count": 88,
   "metadata": {},
   "outputs": [
    {
     "name": "stdout",
     "output_type": "stream",
     "text": [
      "Train on 20000 samples, validate on 5000 samples\n",
      "Epoch 1/30\n",
      "20000/20000 [==============================] - 1s 53us/step - loss: 0.6947 - acc: 0.5202 - val_loss: 0.6886 - val_acc: 0.5352\n",
      "Epoch 2/30\n",
      "20000/20000 [==============================] - 1s 35us/step - loss: 0.6707 - acc: 0.6152 - val_loss: 0.6713 - val_acc: 0.6004\n",
      "Epoch 3/30\n",
      "20000/20000 [==============================] - 1s 35us/step - loss: 0.6362 - acc: 0.7097 - val_loss: 0.6410 - val_acc: 0.6488\n",
      "Epoch 4/30\n",
      "20000/20000 [==============================] - 1s 34us/step - loss: 0.5865 - acc: 0.7560 - val_loss: 0.5986 - val_acc: 0.6964\n",
      "Epoch 5/30\n",
      "20000/20000 [==============================] - 1s 38us/step - loss: 0.5331 - acc: 0.7826 - val_loss: 0.5630 - val_acc: 0.7114\n",
      "Epoch 6/30\n",
      "20000/20000 [==============================] - 1s 37us/step - loss: 0.4861 - acc: 0.8000 - val_loss: 0.5366 - val_acc: 0.7268\n",
      "Epoch 7/30\n",
      "20000/20000 [==============================] - 1s 36us/step - loss: 0.4487 - acc: 0.8172 - val_loss: 0.5200 - val_acc: 0.7374\n",
      "Epoch 8/30\n",
      "20000/20000 [==============================] - 1s 32us/step - loss: 0.4187 - acc: 0.8279 - val_loss: 0.5096 - val_acc: 0.7414\n",
      "Epoch 9/30\n",
      "20000/20000 [==============================] - 1s 36us/step - loss: 0.3929 - acc: 0.8410 - val_loss: 0.5029 - val_acc: 0.7472\n",
      "Epoch 10/30\n",
      "20000/20000 [==============================] - 1s 38us/step - loss: 0.3704 - acc: 0.8537 - val_loss: 0.4985 - val_acc: 0.7516\n",
      "Epoch 11/30\n",
      "20000/20000 [==============================] - 1s 37us/step - loss: 0.3495 - acc: 0.8640 - val_loss: 0.4968 - val_acc: 0.7522\n",
      "Epoch 12/30\n",
      "20000/20000 [==============================] - 1s 37us/step - loss: 0.3304 - acc: 0.8729 - val_loss: 0.4958 - val_acc: 0.7548\n",
      "Epoch 13/30\n",
      "20000/20000 [==============================] - 1s 37us/step - loss: 0.3127 - acc: 0.8796 - val_loss: 0.4968 - val_acc: 0.7524\n"
     ]
    },
    {
     "data": {
      "text/plain": [
       "<keras.callbacks.History at 0x7faad5cce828>"
      ]
     },
     "execution_count": 88,
     "metadata": {},
     "output_type": "execute_result"
    }
   ],
   "source": [
    "ff.fit(\n",
    "    X_train_seq,\n",
    "    y_train,\n",
    "    epochs = 30,\n",
    "    batch_size=128,\n",
    "    validation_split=0.2,\n",
    "    callbacks=[EarlyStopping(monitor=\"val_acc\")])"
   ]
  },
  {
   "cell_type": "code",
   "execution_count": null,
   "metadata": {
    "collapsed": true
   },
   "outputs": [],
   "source": []
  },
  {
   "cell_type": "code",
   "execution_count": null,
   "metadata": {
    "collapsed": true
   },
   "outputs": [],
   "source": []
  },
  {
   "cell_type": "code",
   "execution_count": null,
   "metadata": {
    "collapsed": true
   },
   "outputs": [],
   "source": []
  },
  {
   "cell_type": "code",
   "execution_count": null,
   "metadata": {
    "collapsed": true
   },
   "outputs": [],
   "source": []
  },
  {
   "cell_type": "code",
   "execution_count": null,
   "metadata": {
    "collapsed": true
   },
   "outputs": [],
   "source": []
  },
  {
   "cell_type": "code",
   "execution_count": null,
   "metadata": {
    "collapsed": true
   },
   "outputs": [],
   "source": []
  }
 ],
 "metadata": {
  "kernelspec": {
   "display_name": "Python [default]",
   "language": "python",
   "name": "python3"
  },
  "language_info": {
   "codemirror_mode": {
    "name": "ipython",
    "version": 3
   },
   "file_extension": ".py",
   "mimetype": "text/x-python",
   "name": "python",
   "nbconvert_exporter": "python",
   "pygments_lexer": "ipython3",
   "version": "3.6.1"
  }
 },
 "nbformat": 4,
 "nbformat_minor": 2
}
