{
 "cells": [
  {
   "cell_type": "code",
   "execution_count": 13,
   "metadata": {},
   "outputs": [
    {
     "data": {
      "text/plain": [
       "'C:\\\\Users\\\\Daniel\\\\RNN'"
      ]
     },
     "execution_count": 13,
     "metadata": {},
     "output_type": "execute_result"
    }
   ],
   "source": [
    "import os\n",
    "os.getcwd()"
   ]
  },
  {
   "cell_type": "code",
   "execution_count": 14,
   "metadata": {
    "collapsed": true
   },
   "outputs": [],
   "source": [
    "from selenium.webdriver import Chrome\n",
    "\n",
    "browser = Chrome()\n",
    "\n",
    "url = 'https://www.tripadvisor.co.kr/Restaurant_Review-g294197-d1371740-Reviews-Mugyodong_Bugeokukjib-Seoul.html'\n",
    "\n",
    "browser.get(url)"
   ]
  },
  {
   "cell_type": "code",
   "execution_count": 15,
   "metadata": {
    "collapsed": true
   },
   "outputs": [],
   "source": [
    "more_links = browser.find_elements_by_css_selector(\".ulBlueLinks\")"
   ]
  },
  {
   "cell_type": "code",
   "execution_count": 16,
   "metadata": {
    "collapsed": true
   },
   "outputs": [],
   "source": [
    "for link in more_links:\n",
    "    try:\n",
    "        link.click()\n",
    "    except:\n",
    "        pass"
   ]
  },
  {
   "cell_type": "code",
   "execution_count": 17,
   "metadata": {
    "collapsed": true
   },
   "outputs": [],
   "source": [
    "# find reviews\n",
    "reviews = browser.find_elements_by_css_selector(\".review-container\")"
   ]
  },
  {
   "cell_type": "code",
   "execution_count": 18,
   "metadata": {},
   "outputs": [
    {
     "data": {
      "text/plain": [
       "[<selenium.webdriver.remote.webelement.WebElement (session=\"965775fb0d68d3ce02e3e0679e59c3e5\", element=\"0.6562511506860491-11\")>,\n",
       " <selenium.webdriver.remote.webelement.WebElement (session=\"965775fb0d68d3ce02e3e0679e59c3e5\", element=\"0.6562511506860491-12\")>,\n",
       " <selenium.webdriver.remote.webelement.WebElement (session=\"965775fb0d68d3ce02e3e0679e59c3e5\", element=\"0.6562511506860491-13\")>,\n",
       " <selenium.webdriver.remote.webelement.WebElement (session=\"965775fb0d68d3ce02e3e0679e59c3e5\", element=\"0.6562511506860491-14\")>,\n",
       " <selenium.webdriver.remote.webelement.WebElement (session=\"965775fb0d68d3ce02e3e0679e59c3e5\", element=\"0.6562511506860491-15\")>,\n",
       " <selenium.webdriver.remote.webelement.WebElement (session=\"965775fb0d68d3ce02e3e0679e59c3e5\", element=\"0.6562511506860491-16\")>,\n",
       " <selenium.webdriver.remote.webelement.WebElement (session=\"965775fb0d68d3ce02e3e0679e59c3e5\", element=\"0.6562511506860491-17\")>,\n",
       " <selenium.webdriver.remote.webelement.WebElement (session=\"965775fb0d68d3ce02e3e0679e59c3e5\", element=\"0.6562511506860491-18\")>,\n",
       " <selenium.webdriver.remote.webelement.WebElement (session=\"965775fb0d68d3ce02e3e0679e59c3e5\", element=\"0.6562511506860491-19\")>,\n",
       " <selenium.webdriver.remote.webelement.WebElement (session=\"965775fb0d68d3ce02e3e0679e59c3e5\", element=\"0.6562511506860491-20\")>]"
      ]
     },
     "execution_count": 18,
     "metadata": {},
     "output_type": "execute_result"
    }
   ],
   "source": [
    "reviews"
   ]
  },
  {
   "cell_type": "code",
   "execution_count": 19,
   "metadata": {
    "collapsed": true
   },
   "outputs": [],
   "source": [
    "s = len(\"ui_bubble_rating_bubble_\")\n",
    "\n",
    "review_list = []\n",
    "for review in reviews:\n",
    "    # find rating score\n",
    "    rating = review.find_element_by_css_selector(\".ui_bubble_rating\")\n",
    "    \n",
    "    # get the class of rating with using get_attribute()\n",
    "    cls = rating.get_attribute(\"class\")\n",
    "    \n",
    "    # extract the \"s\" part and convert its type into int\n",
    "    score = int(cls[s:])\n",
    "    \n",
    "    # find the reviews\n",
    "    comment = review.find_element_by_css_selector(\".partial_entry\")\n",
    "    \n",
    "    review_list.append((score, comment.text))"
   ]
  },
  {
   "cell_type": "code",
   "execution_count": 20,
   "metadata": {
    "collapsed": true
   },
   "outputs": [],
   "source": [
    "import pandas as pd"
   ]
  },
  {
   "cell_type": "code",
   "execution_count": 21,
   "metadata": {},
   "outputs": [
    {
     "data": {
      "text/html": [
       "<div>\n",
       "<style>\n",
       "    .dataframe thead tr:only-child th {\n",
       "        text-align: right;\n",
       "    }\n",
       "\n",
       "    .dataframe thead th {\n",
       "        text-align: left;\n",
       "    }\n",
       "\n",
       "    .dataframe tbody tr th {\n",
       "        vertical-align: top;\n",
       "    }\n",
       "</style>\n",
       "<table border=\"1\" class=\"dataframe\">\n",
       "  <thead>\n",
       "    <tr style=\"text-align: right;\">\n",
       "      <th></th>\n",
       "      <th>score</th>\n",
       "      <th>text</th>\n",
       "    </tr>\n",
       "  </thead>\n",
       "  <tbody>\n",
       "    <tr>\n",
       "      <th>0</th>\n",
       "      <td>40</td>\n",
       "      <td>북어국집이 있는 작은 골목을 지날때마다 많은 사람들이 줄서있는 것을 보면...\\n'...</td>\n",
       "    </tr>\n",
       "    <tr>\n",
       "      <th>1</th>\n",
       "      <td>50</td>\n",
       "      <td>왜 미리 몰랐을까 라고 후회 했던 집\\n정말 맛보시길 추천 합니다\\n\\n일요일 오전...</td>\n",
       "    </tr>\n",
       "    <tr>\n",
       "      <th>2</th>\n",
       "      <td>50</td>\n",
       "      <td>\"숙취에 최고의 음식일 듯, 유명한 만큼 맛았고 친절하고 회전이 빠른 식당\"\\n\"직...</td>\n",
       "    </tr>\n",
       "    <tr>\n",
       "      <th>3</th>\n",
       "      <td>50</td>\n",
       "      <td>변함없늗 속풀이. 깔끔하고 회전 빠르고 가격도 주변에 비해 착함. 포장도 맛있음. ...</td>\n",
       "    </tr>\n",
       "    <tr>\n",
       "      <th>4</th>\n",
       "      <td>40</td>\n",
       "      <td>엄청난 맛집은 아니지만 나쁘지 않음으로 꾸준히 유지가 되는 집. 너무 큰 기대를 가...</td>\n",
       "    </tr>\n",
       "    <tr>\n",
       "      <th>5</th>\n",
       "      <td>50</td>\n",
       "      <td>단일 품목으로 오랫동안 손님들의 사랑을 듬뿍 받는 이곳, 5 년만에 다시 들렀어요....</td>\n",
       "    </tr>\n",
       "    <tr>\n",
       "      <th>6</th>\n",
       "      <td>40</td>\n",
       "      <td>첫느낌은 노포에서 맛볼 수 있는 북어국이 아닐까 했는데,들어가보니\\n전혀 반대입니다...</td>\n",
       "    </tr>\n",
       "    <tr>\n",
       "      <th>7</th>\n",
       "      <td>50</td>\n",
       "      <td>이집은 정말 대한민국에서 최고의 해장 북엉국집이라 인정해요\\n\\n어제 과음으로 힘뜰...</td>\n",
       "    </tr>\n",
       "    <tr>\n",
       "      <th>8</th>\n",
       "      <td>40</td>\n",
       "      <td>짭자름한 북엇국물에 밥 한 공기면, 전날 숙취를 깔끔히 떨어낼 수 있다.\\n가격도 ...</td>\n",
       "    </tr>\n",
       "    <tr>\n",
       "      <th>9</th>\n",
       "      <td>30</td>\n",
       "      <td>명동에 명동교자가 있다면 무교동엔 북어국집이 있습니다..\\n오래된 곳이라는 느낌이지...</td>\n",
       "    </tr>\n",
       "  </tbody>\n",
       "</table>\n",
       "</div>"
      ],
      "text/plain": [
       "   score                                               text\n",
       "0     40  북어국집이 있는 작은 골목을 지날때마다 많은 사람들이 줄서있는 것을 보면...\\n'...\n",
       "1     50  왜 미리 몰랐을까 라고 후회 했던 집\\n정말 맛보시길 추천 합니다\\n\\n일요일 오전...\n",
       "2     50  \"숙취에 최고의 음식일 듯, 유명한 만큼 맛았고 친절하고 회전이 빠른 식당\"\\n\"직...\n",
       "3     50  변함없늗 속풀이. 깔끔하고 회전 빠르고 가격도 주변에 비해 착함. 포장도 맛있음. ...\n",
       "4     40  엄청난 맛집은 아니지만 나쁘지 않음으로 꾸준히 유지가 되는 집. 너무 큰 기대를 가...\n",
       "5     50  단일 품목으로 오랫동안 손님들의 사랑을 듬뿍 받는 이곳, 5 년만에 다시 들렀어요....\n",
       "6     40  첫느낌은 노포에서 맛볼 수 있는 북어국이 아닐까 했는데,들어가보니\\n전혀 반대입니다...\n",
       "7     50  이집은 정말 대한민국에서 최고의 해장 북엉국집이라 인정해요\\n\\n어제 과음으로 힘뜰...\n",
       "8     40  짭자름한 북엇국물에 밥 한 공기면, 전날 숙취를 깔끔히 떨어낼 수 있다.\\n가격도 ...\n",
       "9     30  명동에 명동교자가 있다면 무교동엔 북어국집이 있습니다..\\n오래된 곳이라는 느낌이지..."
      ]
     },
     "execution_count": 21,
     "metadata": {},
     "output_type": "execute_result"
    }
   ],
   "source": [
    "df = pd.DataFrame(review_list, columns = [\"score\", \"text\"])\n",
    "df"
   ]
  },
  {
   "cell_type": "code",
   "execution_count": 22,
   "metadata": {
    "collapsed": true
   },
   "outputs": [],
   "source": [
    "df.to_csv(\"tripadvisor.csv\", encoding = \"utf-8\")"
   ]
  },
  {
   "cell_type": "code",
   "execution_count": 23,
   "metadata": {},
   "outputs": [
    {
     "name": "stderr",
     "output_type": "stream",
     "text": [
      "C:\\Users\\Daniel\\Anaconda3\\lib\\site-packages\\h5py\\__init__.py:34: FutureWarning: Conversion of the second argument of issubdtype from `float` to `np.floating` is deprecated. In future, it will be treated as `np.float64 == np.dtype(float).type`.\n",
      "  from ._conv import register_converters as _register_converters\n",
      "Using TensorFlow backend.\n"
     ]
    }
   ],
   "source": [
    "# RNN\n",
    "import keras"
   ]
  },
  {
   "cell_type": "code",
   "execution_count": 24,
   "metadata": {
    "collapsed": true
   },
   "outputs": [],
   "source": [
    "from keras.datasets import imdb"
   ]
  },
  {
   "cell_type": "code",
   "execution_count": 25,
   "metadata": {},
   "outputs": [
    {
     "name": "stdout",
     "output_type": "stream",
     "text": [
      "Downloading data from https://s3.amazonaws.com/text-datasets/imdb.npz\n",
      "17465344/17464789 [==============================] - 85s 5us/step\n"
     ]
    }
   ],
   "source": [
    "data = imdb.load_data()"
   ]
  },
  {
   "cell_type": "code",
   "execution_count": 26,
   "metadata": {
    "collapsed": true
   },
   "outputs": [],
   "source": [
    "(X_train, y_train), (X_test, y_test) = data"
   ]
  },
  {
   "cell_type": "code",
   "execution_count": 27,
   "metadata": {},
   "outputs": [
    {
     "data": {
      "text/plain": [
       "[1, 14, 22, 16, 43, 530, 973, 1622, 1385, 65]"
      ]
     },
     "execution_count": 27,
     "metadata": {},
     "output_type": "execute_result"
    }
   ],
   "source": [
    "X_train[0][:10]"
   ]
  },
  {
   "cell_type": "code",
   "execution_count": 28,
   "metadata": {},
   "outputs": [
    {
     "data": {
      "text/plain": [
       "1"
      ]
     },
     "execution_count": 28,
     "metadata": {},
     "output_type": "execute_result"
    }
   ],
   "source": [
    "y_train[0]"
   ]
  },
  {
   "cell_type": "code",
   "execution_count": 29,
   "metadata": {
    "collapsed": true
   },
   "outputs": [],
   "source": [
    "# RNN is needed to be designated max length : \n",
    "MAXLEN = 20"
   ]
  },
  {
   "cell_type": "code",
   "execution_count": 30,
   "metadata": {
    "collapsed": true
   },
   "outputs": [],
   "source": [
    "from keras.preprocessing.sequence import pad_sequences\n",
    "from keras.utils import to_categorical"
   ]
  },
  {
   "cell_type": "code",
   "execution_count": 32,
   "metadata": {
    "collapsed": true
   },
   "outputs": [],
   "source": [
    "X_train_seq = pad_sequences(X_train, MAXLEN)\n",
    "X_test_seq = pad_sequences(X_test, MAXLEN)"
   ]
  },
  {
   "cell_type": "code",
   "execution_count": 33,
   "metadata": {},
   "outputs": [],
   "source": [
    "NUM_WORDS = X_train_seq.max() + 1"
   ]
  },
  {
   "cell_type": "code",
   "execution_count": 34,
   "metadata": {
    "collapsed": true
   },
   "outputs": [],
   "source": [
    "from keras.models import Sequential\n",
    "from keras.layers import Dense, Embedding, Flatten"
   ]
  },
  {
   "cell_type": "code",
   "execution_count": 35,
   "metadata": {
    "collapsed": true
   },
   "outputs": [],
   "source": [
    "ff = Sequential()\n",
    "ff.add(Embedding(input_dim = NUM_WORDS, output_dim = 8, input_length = MAXLEN))\n",
    "ff.add(Flatten())\n",
    "ff.add(Dense(1, activation = \"sigmoid\"))"
   ]
  },
  {
   "cell_type": "code",
   "execution_count": 36,
   "metadata": {},
   "outputs": [
    {
     "name": "stdout",
     "output_type": "stream",
     "text": [
      "_________________________________________________________________\n",
      "Layer (type)                 Output Shape              Param #   \n",
      "=================================================================\n",
      "embedding_1 (Embedding)      (None, 20, 8)             708632    \n",
      "_________________________________________________________________\n",
      "flatten_1 (Flatten)          (None, 160)               0         \n",
      "_________________________________________________________________\n",
      "dense_1 (Dense)              (None, 1)                 161       \n",
      "=================================================================\n",
      "Total params: 708,793\n",
      "Trainable params: 708,793\n",
      "Non-trainable params: 0\n",
      "_________________________________________________________________\n"
     ]
    }
   ],
   "source": [
    "ff.summary()"
   ]
  },
  {
   "cell_type": "code",
   "execution_count": 37,
   "metadata": {
    "collapsed": true
   },
   "outputs": [],
   "source": [
    "from keras.optimizers import RMSprop"
   ]
  },
  {
   "cell_type": "code",
   "execution_count": 38,
   "metadata": {
    "collapsed": true
   },
   "outputs": [],
   "source": [
    "ff.compile(optimizer = RMSprop(), loss = \"binary_crossentropy\", metrics = [\"acc\"])"
   ]
  },
  {
   "cell_type": "code",
   "execution_count": 39,
   "metadata": {
    "collapsed": true
   },
   "outputs": [],
   "source": [
    "from keras.callbacks import EarlyStopping"
   ]
  },
  {
   "cell_type": "code",
   "execution_count": 41,
   "metadata": {
    "scrolled": false
   },
   "outputs": [
    {
     "name": "stdout",
     "output_type": "stream",
     "text": [
      "Train on 20000 samples, validate on 5000 samples\n",
      "Epoch 1/30\n",
      "20000/20000 [==============================] - 2s 104us/step - loss: 0.6889 - acc: 0.5582 - val_loss: 0.6811 - val_acc: 0.6316\n",
      "Epoch 2/30\n",
      "20000/20000 [==============================] - 2s 92us/step - loss: 0.6514 - acc: 0.7302 - val_loss: 0.6390 - val_acc: 0.6908\n",
      "Epoch 3/30\n",
      "20000/20000 [==============================] - 2s 103us/step - loss: 0.5820 - acc: 0.7631 - val_loss: 0.5852 - val_acc: 0.7114\n",
      "Epoch 4/30\n",
      "20000/20000 [==============================] - 2s 92us/step - loss: 0.5115 - acc: 0.7893 - val_loss: 0.5459 - val_acc: 0.7270\n",
      "Epoch 5/30\n",
      "20000/20000 [==============================] - 2s 90us/step - loss: 0.4549 - acc: 0.8129 - val_loss: 0.5210 - val_acc: 0.7388\n",
      "Epoch 6/30\n",
      "20000/20000 [==============================] - 2s 96us/step - loss: 0.4103 - acc: 0.8337 - val_loss: 0.5066 - val_acc: 0.7446\n",
      "Epoch 7/30\n",
      "20000/20000 [==============================] - 2s 92us/step - loss: 0.3734 - acc: 0.8515 - val_loss: 0.4982 - val_acc: 0.7484\n",
      "Epoch 8/30\n",
      "20000/20000 [==============================] - 2s 91us/step - loss: 0.3417 - acc: 0.8686 - val_loss: 0.4949 - val_acc: 0.7506\n",
      "Epoch 9/30\n",
      "20000/20000 [==============================] - 2s 94us/step - loss: 0.3136 - acc: 0.8817 - val_loss: 0.4948 - val_acc: 0.7524\n",
      "Epoch 10/30\n",
      "20000/20000 [==============================] - 2s 92us/step - loss: 0.2882 - acc: 0.8941 - val_loss: 0.4963 - val_acc: 0.7538\n",
      "Epoch 11/30\n",
      "20000/20000 [==============================] - 2s 91us/step - loss: 0.2647 - acc: 0.9050 - val_loss: 0.5000 - val_acc: 0.7508\n"
     ]
    }
   ],
   "source": [
    "history = ff.fit(\n",
    "    X_train_seq,\n",
    "    y_train,\n",
    "    epochs = 30,\n",
    "    batch_size = 128,\n",
    "    validation_split = 0.2,\n",
    "    callbacks = [EarlyStopping(monitor = \"val_acc\")])"
   ]
  },
  {
   "cell_type": "code",
   "execution_count": 42,
   "metadata": {
    "collapsed": true
   },
   "outputs": [],
   "source": [
    "rnn = Sequential()"
   ]
  },
  {
   "cell_type": "code",
   "execution_count": 43,
   "metadata": {
    "collapsed": true
   },
   "outputs": [],
   "source": [
    "from keras.layers import LSTM"
   ]
  },
  {
   "cell_type": "code",
   "execution_count": 44,
   "metadata": {
    "collapsed": true
   },
   "outputs": [],
   "source": [
    "rnn.add(Embedding(input_dim = NUM_WORDS, output_dim = 8, input_length = MAXLEN))\n",
    "rnn.add(LSTM(1, activation = \"sigmoid\", return_sequences = False))"
   ]
  },
  {
   "cell_type": "code",
   "execution_count": 45,
   "metadata": {},
   "outputs": [
    {
     "name": "stdout",
     "output_type": "stream",
     "text": [
      "_________________________________________________________________\n",
      "Layer (type)                 Output Shape              Param #   \n",
      "=================================================================\n",
      "embedding_2 (Embedding)      (None, 20, 8)             708632    \n",
      "_________________________________________________________________\n",
      "lstm_1 (LSTM)                (None, 1)                 40        \n",
      "=================================================================\n",
      "Total params: 708,672\n",
      "Trainable params: 708,672\n",
      "Non-trainable params: 0\n",
      "_________________________________________________________________\n"
     ]
    }
   ],
   "source": [
    "rnn.summary()"
   ]
  },
  {
   "cell_type": "code",
   "execution_count": 46,
   "metadata": {
    "collapsed": true
   },
   "outputs": [],
   "source": [
    "rnn.compile(optimizer = RMSprop(), loss = \"binary_crossentropy\", metrics = [\"accuracy\"])"
   ]
  },
  {
   "cell_type": "code",
   "execution_count": 49,
   "metadata": {},
   "outputs": [
    {
     "name": "stdout",
     "output_type": "stream",
     "text": [
      "Train on 20000 samples, validate on 5000 samples\n",
      "Epoch 1/30\n",
      "20000/20000 [==============================] - 4s 206us/step - loss: 0.7316 - acc: 0.4985 - val_loss: 0.7005 - val_acc: 0.5062\n",
      "Epoch 2/30\n",
      "20000/20000 [==============================] - 3s 165us/step - loss: 0.6800 - acc: 0.5451 - val_loss: 0.6659 - val_acc: 0.5994\n",
      "Epoch 3/30\n",
      "20000/20000 [==============================] - 4s 180us/step - loss: 0.6487 - acc: 0.6621 - val_loss: 0.6481 - val_acc: 0.6374\n",
      "Epoch 4/30\n",
      "20000/20000 [==============================] - 3s 160us/step - loss: 0.6237 - acc: 0.7046 - val_loss: 0.6306 - val_acc: 0.6538\n",
      "Epoch 5/30\n",
      "20000/20000 [==============================] - 3s 153us/step - loss: 0.5984 - acc: 0.7272 - val_loss: 0.6147 - val_acc: 0.6686\n",
      "Epoch 6/30\n",
      "20000/20000 [==============================] - 3s 156us/step - loss: 0.5746 - acc: 0.7435 - val_loss: 0.6032 - val_acc: 0.6814\n",
      "Epoch 7/30\n",
      "20000/20000 [==============================] - 3s 154us/step - loss: 0.5556 - acc: 0.7500 - val_loss: 0.5962 - val_acc: 0.6778\n"
     ]
    },
    {
     "data": {
      "text/plain": [
       "<keras.callbacks.History at 0x2665d3e8080>"
      ]
     },
     "execution_count": 49,
     "metadata": {},
     "output_type": "execute_result"
    }
   ],
   "source": [
    "rnn.fit(\n",
    "    X_train_seq,\n",
    "    y_train,\n",
    "    epochs = 30,\n",
    "    batch_size = 128,\n",
    "    validation_split = 0.2,\n",
    "    callbacks = [EarlyStopping(monitor = \"val_acc\")])"
   ]
  },
  {
   "cell_type": "code",
   "execution_count": 50,
   "metadata": {
    "collapsed": true
   },
   "outputs": [],
   "source": [
    "# add dense layer\n",
    "rnn2 = Sequential()\n",
    "rnn2.add(Embedding(input_dim = NUM_WORDS, output_dim = 8, input_length = MAXLEN))\n",
    "rnn2.add(LSTM(32, activation = \"tanh\", return_sequences = False))\n",
    "rnn2.add(Dense(1, activation = \"sigmoid\"))"
   ]
  },
  {
   "cell_type": "code",
   "execution_count": 51,
   "metadata": {
    "collapsed": true
   },
   "outputs": [],
   "source": [
    "rnn2.compile(optimizer =RMSprop(), loss = \"binary_crossentropy\", metrics = [\"accuracy\"])"
   ]
  },
  {
   "cell_type": "code",
   "execution_count": 52,
   "metadata": {},
   "outputs": [
    {
     "name": "stdout",
     "output_type": "stream",
     "text": [
      "Train on 20000 samples, validate on 5000 samples\n",
      "Epoch 1/30\n",
      "20000/20000 [==============================] - 5s 248us/step - loss: 0.6261 - acc: 0.6397 - val_loss: 0.5625 - val_acc: 0.7090\n",
      "Epoch 2/30\n",
      "20000/20000 [==============================] - 4s 192us/step - loss: 0.4792 - acc: 0.7744 - val_loss: 0.5128 - val_acc: 0.7434\n",
      "Epoch 3/30\n",
      "20000/20000 [==============================] - 4s 197us/step - loss: 0.4057 - acc: 0.8189 - val_loss: 0.5041 - val_acc: 0.7544\n",
      "Epoch 4/30\n",
      "20000/20000 [==============================] - 4s 205us/step - loss: 0.3594 - acc: 0.8460 - val_loss: 0.5045 - val_acc: 0.7594\n",
      "Epoch 5/30\n",
      "20000/20000 [==============================] - 4s 203us/step - loss: 0.3269 - acc: 0.8605 - val_loss: 0.5455 - val_acc: 0.7534\n"
     ]
    },
    {
     "data": {
      "text/plain": [
       "<keras.callbacks.History at 0x2665fe208d0>"
      ]
     },
     "execution_count": 52,
     "metadata": {},
     "output_type": "execute_result"
    }
   ],
   "source": [
    "rnn2.fit(\n",
    "    X_train_seq,\n",
    "    y_train,\n",
    "    epochs = 30,\n",
    "    batch_size = 128,\n",
    "    validation_split = 0.2,\n",
    "    callbacks = [EarlyStopping(monitor =\"val_acc\")])"
   ]
  },
  {
   "cell_type": "code",
   "execution_count": 53,
   "metadata": {
    "collapsed": true
   },
   "outputs": [],
   "source": [
    "# aggregaiing all outputs of every RNN nodes to dense layer\n",
    "rnn3 = Sequential()\n",
    "rnn3.add(Embedding(input_dim = NUM_WORDS, output_dim = 8, input_length = MAXLEN))\n",
    "rnn3.add(LSTM(4, activation = \"tanh\", return_sequences = True))\n",
    "rnn3.add(Flatten())\n",
    "rnn3.add(Dense(1, activation = \"sigmoid\"))"
   ]
  },
  {
   "cell_type": "code",
   "execution_count": 54,
   "metadata": {
    "scrolled": true
   },
   "outputs": [
    {
     "name": "stdout",
     "output_type": "stream",
     "text": [
      "_________________________________________________________________\n",
      "Layer (type)                 Output Shape              Param #   \n",
      "=================================================================\n",
      "embedding_4 (Embedding)      (None, 20, 8)             708632    \n",
      "_________________________________________________________________\n",
      "lstm_3 (LSTM)                (None, 20, 4)             208       \n",
      "_________________________________________________________________\n",
      "flatten_2 (Flatten)          (None, 80)                0         \n",
      "_________________________________________________________________\n",
      "dense_3 (Dense)              (None, 1)                 81        \n",
      "=================================================================\n",
      "Total params: 708,921\n",
      "Trainable params: 708,921\n",
      "Non-trainable params: 0\n",
      "_________________________________________________________________\n"
     ]
    }
   ],
   "source": [
    "rnn3.summary()"
   ]
  },
  {
   "cell_type": "code",
   "execution_count": 55,
   "metadata": {
    "collapsed": true
   },
   "outputs": [],
   "source": [
    "rnn3.compile(optimizer = RMSprop(), loss = \"binary_crossentropy\", metrics = [\"accuracy\"])"
   ]
  },
  {
   "cell_type": "code",
   "execution_count": 56,
   "metadata": {},
   "outputs": [
    {
     "name": "stdout",
     "output_type": "stream",
     "text": [
      "Train on 20000 samples, validate on 5000 samples\n",
      "Epoch 1/30\n",
      "20000/20000 [==============================] - 7s 333us/step - loss: 0.6767 - acc: 0.5933 - val_loss: 0.6352 - val_acc: 0.6400\n",
      "Epoch 2/30\n",
      "20000/20000 [==============================] - 5s 229us/step - loss: 0.5532 - acc: 0.7236 - val_loss: 0.5735 - val_acc: 0.7032\n",
      "Epoch 3/30\n",
      "20000/20000 [==============================] - 4s 213us/step - loss: 0.4638 - acc: 0.7832 - val_loss: 0.5587 - val_acc: 0.7114\n",
      "Epoch 4/30\n",
      "20000/20000 [==============================] - 4s 206us/step - loss: 0.4098 - acc: 0.8138 - val_loss: 0.5634 - val_acc: 0.7214\n",
      "Epoch 5/30\n",
      "20000/20000 [==============================] - 4s 215us/step - loss: 0.3709 - acc: 0.8362 - val_loss: 0.5499 - val_acc: 0.7258\n",
      "Epoch 6/30\n",
      "20000/20000 [==============================] - 5s 225us/step - loss: 0.3403 - acc: 0.8556 - val_loss: 0.5692 - val_acc: 0.7340\n",
      "Epoch 7/30\n",
      "20000/20000 [==============================] - 5s 228us/step - loss: 0.3155 - acc: 0.8678 - val_loss: 0.5614 - val_acc: 0.7266\n"
     ]
    },
    {
     "data": {
      "text/plain": [
       "<keras.callbacks.History at 0x266639b66a0>"
      ]
     },
     "execution_count": 56,
     "metadata": {},
     "output_type": "execute_result"
    }
   ],
   "source": [
    "rnn3.fit(\n",
    "    X_train_seq,\n",
    "    y_train,\n",
    "    epochs = 30, \n",
    "    batch_size = 128,\n",
    "    validation_split = 0.2,\n",
    "    callbacks = [EarlyStopping(monitor = \"val_acc\")])"
   ]
  }
 ],
 "metadata": {
  "kernelspec": {
   "display_name": "Python [default]",
   "language": "python",
   "name": "python3"
  },
  "language_info": {
   "codemirror_mode": {
    "name": "ipython",
    "version": 3
   },
   "file_extension": ".py",
   "mimetype": "text/x-python",
   "name": "python",
   "nbconvert_exporter": "python",
   "pygments_lexer": "ipython3",
   "version": "3.6.1"
  }
 },
 "nbformat": 4,
 "nbformat_minor": 2
}
